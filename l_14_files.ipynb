{
 "cells": [
  {
   "cell_type": "markdown",
   "metadata": {},
   "source": [
    "## Чтение и запись данных в файл"
   ]
  },
  {
   "cell_type": "markdown",
   "metadata": {},
   "source": [
    "### Переменные указывающие на файл\n",
    "В Python для чтения и записи строковой информации в файл сначала нужно создать переменную, указывающую на этот файл на\n",
    "диске.\n",
    "Для создания переменных такого типа используется встроенная функция **open**.\n",
    "Синтаксис ее использования таков:\n",
    "***variable_name = open (file_address, access_mode)***\n",
    "Где\n",
    "**variable_name** - имя переменной указывающей на файл\n",
    "**file_address** - абсолютный или относительный адрес файла на диске\n",
    "**access_mode** - режим доступа в виде строки"
   ]
  },
  {
   "cell_type": "markdown",
   "metadata": {},
   "source": [
    "### Адресация файла\n",
    "Для указания, где на диске расположен или должен быть создан\n",
    "файл, используется его адрес в виде строки.\n",
    "Адрес бывает :\n",
    "\n",
    "● Абсолютный — вы указываете расположение файла относительно верха дисковой иерархии. Например, в ОС\n",
    "Windows это может выглядеть как **«C:\\temp\\a.txt»**\n",
    "/root/data/filename.txt\n",
    "../../../filename.txt\n",
    "\n",
    "● Относительный — адрес вычисляется относительно места, из которого запускается ваша программа. Так адрес вида «a.txt»\n",
    "указывает на то, что файл **«a.txt»** расположен в той же папке, что и ваша программа.\n",
    "\n",
    "***Внимание!*** Если вы используете абсолютную адресацию, то перед строковым литералом адреса нужно поставить букву r. Такая\n",
    "запись позволит Python корректно обработать адрес.\n",
    "\n",
    "Например, **open(r\"C:\\temp\\a.txt\",\"r\"))**"
   ]
  },
  {
   "cell_type": "markdown",
   "metadata": {},
   "source": [
    "### Режим доступа\n",
    "Для указания того, с применением каких атрибутов (режимов доступа) будет открыт файл, используется строка, в которой буквой указывается тип применяемого атрибута.\n",
    "\n",
    "● «r» - Открывает файл только для чтения. Указатель стоит в начале файла.\n",
    "\n",
    "● «w» - Открывает файл только для записи. Указатель стоит в начале файла. Создает файл, если его не существует.\n",
    "\n",
    "\n",
    "● «a» - Открывает файл для добавления информации в файл. Указатель стоит в конце файла. Создает файл, если его не  существует.\n",
    "\n",
    "\n",
    "\n",
    "Внимание! Эти режимы применяются только для символьных данных! Существуют режимы и для двоичных данных, но в этом курсе мы их не рассматриваем."
   ]
  },
  {
   "cell_type": "markdown",
   "metadata": {},
   "source": [
    "### Указатель в файле\n",
    "Вы можете представлять файл, как последовательность символов. Каждому символу присваивается порядковый номер, начиная с 0, и далее по возрастанию с шагом 1."
   ]
  },
  {
   "cell_type": "code",
   "execution_count": 1,
   "metadata": {},
   "outputs": [],
   "source": [
    "file_one = open(\"a.txt\",\"w\")"
   ]
  },
  {
   "cell_type": "markdown",
   "metadata": {},
   "source": [
    "В данном примере переменная с именем file_one указывает на файл с адресом «a.txt». Это - относительный адрес, следовательно этот файл появится в той же папке, из которой запущена ваша программа. Тут выбран режим доступа «w», что означает, что файл открыт для записи, а если такого файла нет, то он будет создан."
   ]
  },
  {
   "cell_type": "markdown",
   "metadata": {},
   "source": [
    "#### Запись данных в файл\n",
    "Для записи данных в файл нужно выполнить следующую последовательность действий:\n",
    "\n",
    "1) Открыть файл в режиме записи\n",
    "\n",
    "2) С помощью методов ***write*** и ***writelines*** записать требуемые данные в файл\n",
    "\n",
    "3) С помощью метода ***close*** закрыть файл"
   ]
  },
  {
   "cell_type": "code",
   "execution_count": 2,
   "metadata": {},
   "outputs": [
    {
     "data": {
      "text/plain": [
       "11"
      ]
     },
     "execution_count": 2,
     "metadata": {},
     "output_type": "execute_result"
    }
   ],
   "source": [
    "file_one.write(\"Hello world\")"
   ]
  },
  {
   "cell_type": "code",
   "execution_count": 3,
   "metadata": {
    "scrolled": true
   },
   "outputs": [
    {
     "data": {
      "text/plain": [
       "6"
      ]
     },
     "execution_count": 3,
     "metadata": {},
     "output_type": "execute_result"
    }
   ],
   "source": [
    "file_one.write(\"Hello world\")\n",
    "file_one.write(\"CLOSED\")"
   ]
  },
  {
   "cell_type": "code",
   "execution_count": 4,
   "metadata": {},
   "outputs": [],
   "source": [
    "file_one.close()\n"
   ]
  },
  {
   "cell_type": "markdown",
   "metadata": {},
   "source": [
    "**write(string)** запишет в файл строку str. Внимание! В отличие от **print()** он не переводит строку автоматически."
   ]
  },
  {
   "cell_type": "code",
   "execution_count": 5,
   "metadata": {},
   "outputs": [],
   "source": [
    "file_one = open(\"a.txt\",\"w\")\n",
    "file_one.write(\"Hello world\\n\")\n",
    "file_one.write(\"\\t\\tHello world\\n\")\n",
    "file_one.write(\"Hello world\\n\")\n",
    "file_one.close()\n"
   ]
  },
  {
   "cell_type": "code",
   "execution_count": 6,
   "metadata": {},
   "outputs": [],
   "source": [
    "students_list = [\"Olga\",\"Sergiy\",\"Petr\",\"Lidia\"]\n",
    "file_one = open(\"Students.txt\",\"w\")\n",
    "for i in range(len(students_list)):\n",
    "    file_one.write(f'{i+1})  {students_list[i]}\\n')\n",
    "file_one.close()"
   ]
  },
  {
   "cell_type": "code",
   "execution_count": 7,
   "metadata": {
    "scrolled": true
   },
   "outputs": [],
   "source": [
    "file_one = open(\"Students.txt\",\"w\")\n",
    "for i, st in enumerate(students_list, 100):\n",
    "    file_one.write(f'{i})  {st}\\n')\n",
    "file_one.close()"
   ]
  },
  {
   "cell_type": "markdown",
   "metadata": {},
   "source": [
    "**writelines(list_str)** запишет в файл все строки, расположенные в списке *list_str*"
   ]
  },
  {
   "cell_type": "code",
   "execution_count": 8,
   "metadata": {},
   "outputs": [
    {
     "ename": "TypeError",
     "evalue": "write() argument must be str, not list",
     "output_type": "error",
     "traceback": [
      "\u001b[0;31m---------------------------------------------------------------------------\u001b[0m",
      "\u001b[0;31mTypeError\u001b[0m                                 Traceback (most recent call last)",
      "Cell \u001b[0;32mIn[8], line 3\u001b[0m\n\u001b[1;32m      1\u001b[0m students_list \u001b[38;5;241m=\u001b[39m [\u001b[38;5;124m\"\u001b[39m\u001b[38;5;124mOlga\u001b[39m\u001b[38;5;124m\"\u001b[39m,\u001b[38;5;124m\"\u001b[39m\u001b[38;5;124mSergiy\u001b[39m\u001b[38;5;124m\"\u001b[39m,\u001b[38;5;124m\"\u001b[39m\u001b[38;5;124mPetr\u001b[39m\u001b[38;5;124m\"\u001b[39m,\u001b[38;5;124m\"\u001b[39m\u001b[38;5;124mLidia\u001b[39m\u001b[38;5;124m\"\u001b[39m]\n\u001b[1;32m      2\u001b[0m file_one \u001b[38;5;241m=\u001b[39m \u001b[38;5;28mopen\u001b[39m(\u001b[38;5;124m\"\u001b[39m\u001b[38;5;124mStudents2.txt\u001b[39m\u001b[38;5;124m\"\u001b[39m,\u001b[38;5;124m\"\u001b[39m\u001b[38;5;124mw\u001b[39m\u001b[38;5;124m\"\u001b[39m)\n\u001b[0;32m----> 3\u001b[0m \u001b[43mfile_one\u001b[49m\u001b[38;5;241;43m.\u001b[39;49m\u001b[43mwrite\u001b[49m\u001b[43m(\u001b[49m\u001b[43mstudents_list\u001b[49m\u001b[43m)\u001b[49m \u001b[38;5;66;03m# error\u001b[39;00m\n\u001b[1;32m      4\u001b[0m file_one\u001b[38;5;241m.\u001b[39mclose()\n",
      "\u001b[0;31mTypeError\u001b[0m: write() argument must be str, not list"
     ]
    }
   ],
   "source": [
    "students_list = [\"Olga\",\"Sergiy\",\"Petr\",\"Lidia\"]\n",
    "file_one = open(\"Students2.txt\",\"w\")\n",
    "file_one.write(students_list) # error\n",
    "file_one.close()"
   ]
  },
  {
   "cell_type": "code",
   "execution_count": 9,
   "metadata": {},
   "outputs": [],
   "source": [
    "students_list = [\"Olga\",\"Sergiy\",\"Petr\",\"Lidia\"]\n",
    "file_one = open(\"Students2.txt\",\"w\")\n",
    "file_one.write(str(students_list))\n",
    "file_one.close()"
   ]
  },
  {
   "cell_type": "code",
   "execution_count": 10,
   "metadata": {
    "scrolled": true
   },
   "outputs": [
    {
     "name": "stdout",
     "output_type": "stream",
     "text": [
      "['Olga', 'Sergiy', 'Petr', 'Lidia']\n",
      "<class 'str'>\n"
     ]
    }
   ],
   "source": [
    "a = str(students_list)\n",
    "print(a)\n",
    "print(type(a))"
   ]
  },
  {
   "cell_type": "code",
   "execution_count": 11,
   "metadata": {},
   "outputs": [],
   "source": [
    "students_list = [\"Olga\",\"Sergiy\",\"Petr\",\"Lidia\"]\n",
    "file_one = open(\"Students2.txt\",\"w\")\n",
    "file_one.writelines(students_list)\n",
    "file_one.close()"
   ]
  },
  {
   "cell_type": "markdown",
   "metadata": {},
   "source": [
    "#### Запись в файл с кодировкой «UTF-8»\n",
    "import codecs\n",
    "\n",
    "data = „unknow codec text“\n",
    "\n",
    "handle = codecs.open('some.txt', \"w\", 'utf-8')\n",
    "\n",
    "handle.write(str(data))\n",
    "\n",
    "handle.close()"
   ]
  },
  {
   "cell_type": "markdown",
   "metadata": {},
   "source": [
    "### Чтение данных из файла\n",
    "Для чтения данных из файла нужно выполнить следующую последовательность действий:\n",
    "\n",
    "1) Открыть файл в режиме чтения\n",
    "\n",
    "2) С помощью методов **read, readline и readlines** считать требуемые данные из файла\n",
    "\n",
    "3) С помощью метода **close** закрыть файл"
   ]
  },
  {
   "cell_type": "markdown",
   "metadata": {},
   "source": [
    "#### Методы для чтения из файла\n",
    "**read()** - возвращает строку содержащую все символы, хранящиеся в файле.\n",
    "\n",
    "**read(N)** - возвращает строку содержащую очередные N символов из файла.\n",
    "\n",
    "**readline()** - читает содержимое файла до ближайшего символа \\n и возвращает строку.\n",
    "\n",
    "**readlines()** - читает файл целиком и возвращает список строк."
   ]
  },
  {
   "cell_type": "code",
   "execution_count": 12,
   "metadata": {
    "scrolled": true
   },
   "outputs": [
    {
     "name": "stdout",
     "output_type": "stream",
     "text": [
      "['Hello world\\n', '\\t\\tHello world\\n', 'Hello world\\n']\n"
     ]
    }
   ],
   "source": [
    "file_one = open(\"a.txt\",\"r\")\n",
    "lst = file_one.readlines()\n",
    "file_one.close()\n",
    "print(lst)"
   ]
  },
  {
   "cell_type": "code",
   "execution_count": 13,
   "metadata": {},
   "outputs": [
    {
     "name": "stdout",
     "output_type": "stream",
     "text": [
      "Hello world\n",
      "\n"
     ]
    }
   ],
   "source": [
    "file_one = open(\"a.txt\",\"r\")\n",
    "lst = file_one.readline()\n",
    "\n",
    "print(lst)"
   ]
  },
  {
   "cell_type": "code",
   "execution_count": 14,
   "metadata": {},
   "outputs": [
    {
     "name": "stdout",
     "output_type": "stream",
     "text": [
      "\t\tHello world\n",
      "\n"
     ]
    }
   ],
   "source": [
    "lst = file_one.readline()\n",
    "print(lst)"
   ]
  },
  {
   "cell_type": "code",
   "execution_count": 15,
   "metadata": {
    "scrolled": true
   },
   "outputs": [
    {
     "name": "stdout",
     "output_type": "stream",
     "text": [
      "Hello world\n",
      "\n"
     ]
    }
   ],
   "source": [
    "lst = file_one.readline()\n",
    "print(lst)"
   ]
  },
  {
   "cell_type": "code",
   "execution_count": 28,
   "metadata": {},
   "outputs": [
    {
     "name": "stdout",
     "output_type": "stream",
     "text": [
      "\n"
     ]
    }
   ],
   "source": [
    "lst = file_one.readline()\n",
    "print(lst)"
   ]
  },
  {
   "cell_type": "code",
   "execution_count": 36,
   "metadata": {},
   "outputs": [],
   "source": [
    "file_one.close()\n"
   ]
  },
  {
   "cell_type": "code",
   "execution_count": 30,
   "metadata": {},
   "outputs": [
    {
     "name": "stdout",
     "output_type": "stream",
     "text": [
      "Hello world\n",
      "\t\tHello world\n",
      "Hello world\n",
      "\n"
     ]
    }
   ],
   "source": [
    "file_one = open(\"a.txt\",\"r\")\n",
    "lst = file_one.read()\n",
    "print(lst)"
   ]
  },
  {
   "cell_type": "markdown",
   "metadata": {},
   "source": [
    "#### Удобный способ чтения из файла\n",
    "В случае, когда нужно построчно вычитать текстовый файл, существует удобный способ. Для этого нужно получить переменную\n",
    "связанную с файлом, и использовать цикл for для построчной вычитки из файла."
   ]
  },
  {
   "cell_type": "code",
   "execution_count": 37,
   "metadata": {
    "scrolled": false
   },
   "outputs": [
    {
     "name": "stdout",
     "output_type": "stream",
     "text": [
      "Hello world\n",
      "\t\tHello world\n",
      "Hello world\n"
     ]
    }
   ],
   "source": [
    "file_one = open(\"a.txt\",\"r\")\n",
    "for text in file_one:\n",
    "    print(text, end='')\n",
    "file_one.close()"
   ]
  },
  {
   "cell_type": "code",
   "execution_count": 38,
   "metadata": {},
   "outputs": [
    {
     "name": "stdout",
     "output_type": "stream",
     "text": [
      "{0: 'Hello world\\n', 1: '\\t\\tHello world\\n', 2: 'Hello world\\n'}\n"
     ]
    }
   ],
   "source": [
    "f = open(\"a.txt\", 'r')\n",
    "print({i: s for i, s in enumerate(f)})\n",
    "f.close()"
   ]
  },
  {
   "cell_type": "markdown",
   "metadata": {},
   "source": [
    "### Как перемещаться по файлу\n",
    "При чтении или записи действие всегда происходит от текущего положения указателя. После записи или чтения из файла n\n",
    "символов, указатель сдвигается на n позиций. Т.е. получается последовательное продвижение файлового указателя от начала\n",
    "файла к его концу.\n",
    "В случае возникновения необходимости, вы можете передвинуть указатель. Для этого используется метод **seek**.\n",
    "Синтаксис его использования:\n",
    "\n",
    "**seek(N)** — установит указатель на *N-й* символ от начала файла.\n",
    "\n",
    "Например, **seek(0)** установит указатель в начало файла. **seek(5)** установит указатель на **5** символ."
   ]
  },
  {
   "cell_type": "code",
   "execution_count": 39,
   "metadata": {},
   "outputs": [
    {
     "name": "stdout",
     "output_type": "stream",
     "text": [
      "Hell\n",
      "Hello\n",
      "d\n",
      "\t\tH\n"
     ]
    }
   ],
   "source": [
    "file_one = open(\"a.txt\",\"r\")\n",
    "text = file_one.read(4)\n",
    "print(text)\n",
    "file_one.seek(0)\n",
    "\n",
    "text = file_one.read(5)\n",
    "print(text)\n",
    "\n",
    "file_one.seek(10)\n",
    "text = file_one.read(5)\n",
    "print(text)"
   ]
  },
  {
   "cell_type": "code",
   "execution_count": 40,
   "metadata": {},
   "outputs": [],
   "source": [
    "file_one.close()"
   ]
  },
  {
   "cell_type": "markdown",
   "metadata": {},
   "source": [
    "### Работа с файлом с помощью контекстного менеджера *with*"
   ]
  },
  {
   "cell_type": "code",
   "execution_count": 41,
   "metadata": {},
   "outputs": [],
   "source": [
    "with open('b.txt', 'w') as file_one:\n",
    "    file_one.write(\"Hi there!\")\n",
    "    file_one.write(\"Hi there!\")\n",
    "    file_one.write(\"Hi there!\")\n",
    "    file_one.write(\"Hi there!\")\n",
    "# нет необходимости закрывать файл в явном виде\n",
    "\n",
    "# file_one = open('b.txt', 'w')\n",
    "# file_one.write(\"Hi there!\")\n",
    "# file_one.write(\"Hi there!\")\n",
    "# file_one.write(\"Hi there!\")\n",
    "# file_one.write(\"Hi there!\")\n",
    "# file_one.close()"
   ]
  },
  {
   "cell_type": "code",
   "execution_count": 48,
   "metadata": {},
   "outputs": [
    {
     "name": "stdout",
     "output_type": "stream",
     "text": [
      "{\"name\": \"Ivan\", \"location\": \"Somewhere\", \"last_name\": \"Niekipielov\"}\n",
      "<class 'str'>\n",
      "Somewhere\n",
      "<class 'dict'>\n"
     ]
    }
   ],
   "source": [
    "import json\n",
    "data = {\"name\": \"Ivan\", \"location\": \"Somewhere\", \"last_name\": \"Niekipielov\"}\n",
    "json_str = json.dumps(data)\n",
    "print(json_str)\n",
    "print(type(json_str))\n",
    "\n",
    "with open(\"data.json\", \"w\") as f:\n",
    "    f.write(json_str)\n",
    "\n"
   ]
  },
  {
   "cell_type": "code",
   "execution_count": 49,
   "metadata": {},
   "outputs": [
    {
     "name": "stdout",
     "output_type": "stream",
     "text": [
      "{'name': 'Ivan', 'location': 'Somewhere', 'last_name': 'Niekipielov'}\n",
      "<class 'dict'>\n"
     ]
    }
   ],
   "source": [
    "with open(\"data.json\", \"r\") as f:\n",
    "    data = json.loads(f.read())\n",
    "    print(data)\n",
    "    print(type(data))"
   ]
  }
 ],
 "metadata": {
  "kernelspec": {
   "display_name": "Python 3 (ipykernel)",
   "language": "python",
   "name": "python3"
  },
  "language_info": {
   "codemirror_mode": {
    "name": "ipython",
    "version": 3
   },
   "file_extension": ".py",
   "mimetype": "text/x-python",
   "name": "python",
   "nbconvert_exporter": "python",
   "pygments_lexer": "ipython3",
   "version": "3.12.1"
  }
 },
 "nbformat": 4,
 "nbformat_minor": 2
}
