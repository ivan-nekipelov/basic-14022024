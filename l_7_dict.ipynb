{
 "cells": [
  {
   "cell_type": "markdown",
   "metadata": {},
   "source": [
    "## Словари (dict)"
   ]
  },
  {
   "cell_type": "markdown",
   "metadata": {
    "pycharm": {
     "name": "#%% md\n"
    }
   },
   "source": [
    "Словарь — это пример хранилища значений ключей, также известного как Mapping в Python.\n",
    "Он позволяет хранить и извлекать элементы, ссылаясь на ключ. Так как словари ссылаются по ключу, в них быстро работает поиск, поскольку они в основном используются для ссылки на элементы по ключу и они не сортируются."
   ]
  },
  {
   "cell_type": "code",
   "execution_count": 1,
   "metadata": {},
   "outputs": [
    {
     "name": "stdout",
     "output_type": "stream",
     "text": [
      "<class 'dict'>\n",
      "<class 'dict'>\n"
     ]
    }
   ],
   "source": [
    "d1 = dict()\n",
    "print(type(d1))\n",
    "\n",
    "d2 = {}\n",
    "print(type(d2))"
   ]
  },
  {
   "cell_type": "code",
   "execution_count": 2,
   "metadata": {
    "scrolled": true
   },
   "outputs": [
    {
     "name": "stdout",
     "output_type": "stream",
     "text": [
      "{'Ivan': 'manager', 'Mark': 'worker'}\n",
      "{'A1': '123', 'A2': '456'}\n",
      "{0: 'муж', 1: 'жен'}\n",
      "{1: 'one', 5: 'five'}\n"
     ]
    }
   ],
   "source": [
    "d1 = dict(Ivan=\"manager\", Mark=\"worker\")\n",
    "print(d1)\n",
    "\n",
    "d2 = {\"A1\": \"123\", \"A2\": \"456\"}\n",
    "print(d2)\n",
    "\n",
    "gender_dict = {0: 'муж', 1: 'жен'}\n",
    "print(gender_dict)\n",
    "\n",
    "dict_one = {1: \"one\", 5: \"five\"}\n",
    "print(dict_one)"
   ]
  },
  {
   "cell_type": "code",
   "execution_count": 3,
   "metadata": {
    "scrolled": true
   },
   "outputs": [
    {
     "ename": "SyntaxError",
     "evalue": "expression cannot contain assignment, perhaps you meant \"==\"? (181345780.py, line 1)",
     "output_type": "error",
     "traceback": [
      "\u001b[0;36m  Cell \u001b[0;32mIn[3], line 1\u001b[0;36m\u001b[0m\n\u001b[0;31m    s1 = dict(1=\"manager\", 0=\"worker\") # SyntaxError\u001b[0m\n\u001b[0m              ^\u001b[0m\n\u001b[0;31mSyntaxError\u001b[0m\u001b[0;31m:\u001b[0m expression cannot contain assignment, perhaps you meant \"==\"?\n"
     ]
    }
   ],
   "source": [
    "s1 = dict(1=\"manager\", 0=\"worker\") # SyntaxError"
   ]
  },
  {
   "cell_type": "code",
   "execution_count": 4,
   "metadata": {},
   "outputs": [
    {
     "data": {
      "text/plain": [
       "{1.0: 'Two'}"
      ]
     },
     "execution_count": 4,
     "metadata": {},
     "output_type": "execute_result"
    }
   ],
   "source": [
    "fl = {1.0: 'One', 1.0: \"Two\"}\n",
    "fl"
   ]
  },
  {
   "cell_type": "code",
   "execution_count": 5,
   "metadata": {},
   "outputs": [
    {
     "data": {
      "text/plain": [
       "{1.0: 'hy'}"
      ]
     },
     "execution_count": 5,
     "metadata": {},
     "output_type": "execute_result"
    }
   ],
   "source": [
    "fl[1] = \"hy\"\n",
    "fl"
   ]
  },
  {
   "cell_type": "markdown",
   "metadata": {},
   "source": [
    "### В качестве ключа могут быть только переменные хешируемого типа (неизменяемый тип данных).\n",
    "Хеш (он же хеш-код) — это, обычно, число, которое генерируется на основании содержимого объекта с помощью функции свертки."
   ]
  },
  {
   "cell_type": "code",
   "execution_count": 6,
   "metadata": {},
   "outputs": [
    {
     "name": "stdout",
     "output_type": "stream",
     "text": [
      "10\n",
      "1310795279323779649\n",
      "-2876218790021889447\n",
      "-2876218790021889447\n",
      "173794974761290439\n"
     ]
    }
   ],
   "source": [
    "print(hash(10))\n",
    "print(hash('10'))\n",
    "print(hash('Hello world'))\n",
    "print(hash('Hello world'))\n",
    "print(hash((1, 5)))"
   ]
  },
  {
   "cell_type": "code",
   "execution_count": 7,
   "metadata": {},
   "outputs": [
    {
     "data": {
      "text/plain": [
       "4402745456"
      ]
     },
     "execution_count": 7,
     "metadata": {},
     "output_type": "execute_result"
    }
   ],
   "source": [
    "id('Hello world')\n"
   ]
  },
  {
   "cell_type": "code",
   "execution_count": null,
   "metadata": {},
   "outputs": [],
   "source": [
    "hash('Hello world' + 'salt')"
   ]
  },
  {
   "cell_type": "code",
   "execution_count": 8,
   "metadata": {},
   "outputs": [
    {
     "ename": "TypeError",
     "evalue": "unhashable type: 'list'",
     "output_type": "error",
     "traceback": [
      "\u001b[0;31m---------------------------------------------------------------------------\u001b[0m",
      "\u001b[0;31mTypeError\u001b[0m                                 Traceback (most recent call last)",
      "Cell \u001b[0;32mIn[8], line 1\u001b[0m\n\u001b[0;32m----> 1\u001b[0m \u001b[38;5;28mprint\u001b[39m(\u001b[38;5;28;43mhash\u001b[39;49m\u001b[43m(\u001b[49m\u001b[43m[\u001b[49m\u001b[38;5;241;43m1\u001b[39;49m\u001b[43m,\u001b[49m\u001b[43m \u001b[49m\u001b[38;5;241;43m5\u001b[39;49m\u001b[43m]\u001b[49m\u001b[43m)\u001b[49m) \u001b[38;5;66;03m# error\u001b[39;00m\n",
      "\u001b[0;31mTypeError\u001b[0m: unhashable type: 'list'"
     ]
    }
   ],
   "source": [
    "print(hash([1, 5])) # error"
   ]
  },
  {
   "cell_type": "code",
   "execution_count": 9,
   "metadata": {},
   "outputs": [
    {
     "name": "stdout",
     "output_type": "stream",
     "text": [
      "{1: 'one', 5: 'five'}\n",
      "one\n",
      "{'A1': '123', 'A2': '456'}\n",
      "456\n"
     ]
    }
   ],
   "source": [
    "print(dict_one)\n",
    "a = dict_one[1]\n",
    "print(a)\n",
    "\n",
    "print(d2)\n",
    "print(d2[\"A2\"])"
   ]
  },
  {
   "cell_type": "code",
   "execution_count": 10,
   "metadata": {},
   "outputs": [
    {
     "ename": "KeyError",
     "evalue": "2",
     "output_type": "error",
     "traceback": [
      "\u001b[0;31m---------------------------------------------------------------------------\u001b[0m",
      "\u001b[0;31mKeyError\u001b[0m                                  Traceback (most recent call last)",
      "Cell \u001b[0;32mIn[10], line 1\u001b[0m\n\u001b[0;32m----> 1\u001b[0m a \u001b[38;5;241m=\u001b[39m \u001b[43mdict_one\u001b[49m\u001b[43m[\u001b[49m\u001b[38;5;241;43m2\u001b[39;49m\u001b[43m]\u001b[49m \u001b[38;5;66;03m# error\u001b[39;00m\n",
      "\u001b[0;31mKeyError\u001b[0m: 2"
     ]
    }
   ],
   "source": [
    "a = dict_one[2] # error"
   ]
  },
  {
   "cell_type": "markdown",
   "metadata": {},
   "source": [
    "важной особенностью кортежа является то, что он относится к кешируемому типу данных, т. е., в отличие от\n",
    "списка, кортеж может использоваться в качестве ключей в словаре."
   ]
  },
  {
   "cell_type": "code",
   "execution_count": 11,
   "metadata": {},
   "outputs": [
    {
     "name": "stdout",
     "output_type": "stream",
     "text": [
      "{(1, 2): 'Hello World', ('one', 'two'): 'Python is the best of the best!'}\n"
     ]
    }
   ],
   "source": [
    "dct = {}\n",
    "dct[(1, 2)] = 'Hello World'\n",
    "dct[('one', 'two')] = 'Python is the best of the best!'\n",
    "print(dct)"
   ]
  },
  {
   "cell_type": "code",
   "execution_count": null,
   "metadata": {},
   "outputs": [],
   "source": [
    "# RGB -> {(255, 255, 255): 'white', (0, 0, 0): 'black'}"
   ]
  },
  {
   "cell_type": "markdown",
   "metadata": {},
   "source": [
    "### Вложенные структуры"
   ]
  },
  {
   "cell_type": "code",
   "execution_count": null,
   "metadata": {},
   "outputs": [],
   "source": [
    "human = {\"name\": \"Alexander\",\n",
    "        \"lastname\": \"Block\",\n",
    "        \"age_as_of_death\": 36,\n",
    "        \"addresses\":\n",
    "             [{\"street\": \"Lomonosova\",\n",
    "              \"house\": 87,\n",
    "              \"flat\": 705}]\n",
    "}\n",
    "\n",
    "house = human[\"address\"][0][\"house\"]\n",
    "\n",
    "human[\"addresses\"][0][\"flat\"] = 700\n",
    "print(human)\n",
    "# Как развернуть вложенность? Об этом в конце."
   ]
  },
  {
   "cell_type": "code",
   "execution_count": 12,
   "metadata": {},
   "outputs": [],
   "source": [
    "a = [\n",
    "    {\"name\": \"Alexander\", \"lastname\": \"Block\", \"age\": 36}, \n",
    "    {\"name\": \"Bob\", \"lastname\": \"Young\",  \"age\": 25}\n",
    "]"
   ]
  },
  {
   "cell_type": "code",
   "execution_count": 13,
   "metadata": {},
   "outputs": [
    {
     "data": {
      "text/plain": [
       "'Bob'"
      ]
     },
     "execution_count": 13,
     "metadata": {},
     "output_type": "execute_result"
    }
   ],
   "source": [
    "a[1]['name']"
   ]
  },
  {
   "cell_type": "markdown",
   "metadata": {},
   "source": [
    "### Добавление и обновление элемента"
   ]
  },
  {
   "cell_type": "code",
   "execution_count": 14,
   "metadata": {},
   "outputs": [
    {
     "name": "stdout",
     "output_type": "stream",
     "text": [
      "{1: 'one', 5: 'five'}\n",
      "{1: 'ONE', 5: 'five'}\n",
      "{1: 'ONE', 5: 'five', 2: 'Two'}\n"
     ]
    }
   ],
   "source": [
    "print(dict_one)\n",
    "dict_one[1] = 'ONE'\n",
    "print(dict_one)\n",
    "\n",
    "dict_one[2] = 'Two'\n",
    "print(dict_one)"
   ]
  },
  {
   "cell_type": "code",
   "execution_count": 15,
   "metadata": {},
   "outputs": [
    {
     "name": "stdout",
     "output_type": "stream",
     "text": [
      "{'A1': '123', 'A2': '456'}\n",
      "{'A2': '456'}\n"
     ]
    }
   ],
   "source": [
    "print(d2)\n",
    "del d2[\"A1\"]\n",
    "print(d2)"
   ]
  },
  {
   "cell_type": "code",
   "execution_count": 19,
   "metadata": {},
   "outputs": [
    {
     "name": "stdout",
     "output_type": "stream",
     "text": [
      "{'A2': '456', 'A1': 1, 'A3': 1}\n"
     ]
    }
   ],
   "source": [
    "d2['A3'] = 1\n",
    "print(d2)"
   ]
  },
  {
   "cell_type": "markdown",
   "metadata": {},
   "source": [
    "#### Проверка наличия ключа в словаре"
   ]
  },
  {
   "cell_type": "code",
   "execution_count": null,
   "metadata": {},
   "outputs": [],
   "source": [
    "print(d1)\n",
    "print(\"Ivan\" in d1)\n",
    "print(\"Iva\" in d1)"
   ]
  },
  {
   "cell_type": "markdown",
   "metadata": {},
   "source": [
    "## Методы словарей"
   ]
  },
  {
   "cell_type": "markdown",
   "metadata": {},
   "source": [
    "### *clear()* - очищает словарь."
   ]
  },
  {
   "cell_type": "code",
   "execution_count": 20,
   "metadata": {},
   "outputs": [
    {
     "name": "stdout",
     "output_type": "stream",
     "text": [
      "{'A1': '123', 'A2': '456'}\n",
      "clear {}\n"
     ]
    }
   ],
   "source": [
    "d2 = {\"A1\":\"123\", \"A2\":\"456\"}\n",
    "print(d2)\n",
    "\n",
    "d2.clear()\n",
    "print('clear', d2)\n",
    "\n",
    "# d2 = {}"
   ]
  },
  {
   "cell_type": "markdown",
   "metadata": {},
   "source": [
    "### *copy()* - возвращает копию словаря."
   ]
  },
  {
   "cell_type": "code",
   "execution_count": 21,
   "metadata": {},
   "outputs": [
    {
     "name": "stdout",
     "output_type": "stream",
     "text": [
      "{'A1': '123', 'A2': '456'}\n",
      "{'A1': '123', 'A2': '456'}\n",
      "{'A1': '789', 'A2': '456'}\n"
     ]
    }
   ],
   "source": [
    "d2 = {\"A1\":\"123\", \"A2\":\"456\"}\n",
    "d3 = d2.copy()\n",
    "print(d3)\n",
    "\n",
    "d3[\"A1\"] = \"789\"\n",
    "print(d2)\n",
    "print(d3)\n"
   ]
  },
  {
   "cell_type": "code",
   "execution_count": 22,
   "metadata": {},
   "outputs": [
    {
     "name": "stdout",
     "output_type": "stream",
     "text": [
      "4408288256\n",
      "4408287808\n",
      "d3 -> {'A1': {1: 'one', 5: 'five'}, 'A2': '456'}\n",
      "d2 -> {'A1': {1: '789', 5: 'five'}, 'A2': '456'}\n",
      "d3 -> {'A1': {1: '789', 5: 'five'}, 'A2': '456'}\n"
     ]
    }
   ],
   "source": [
    "d2 = {\"A1\": {1: \"one\", 5: \"five\"}, \"A2\":\"456\"}\n",
    "d3 = d2.copy()\n",
    "print(id(d2))\n",
    "print(id(d3))\n",
    "print('d3 ->', d3)\n",
    "\n",
    "d3[\"A1\"][1] = \"789\"\n",
    "print('d2 ->', d2)\n",
    "print('d3 ->', d3)"
   ]
  },
  {
   "cell_type": "code",
   "execution_count": 23,
   "metadata": {},
   "outputs": [
    {
     "name": "stdout",
     "output_type": "stream",
     "text": [
      "d3 -> {'A1': {1: 'one', 5: 'five'}, 'A2': '456'}\n",
      "d2 -> {'A1': {1: 'one', 5: 'five'}, 'A2': '456'}\n",
      "d3 -> {'A1': {1: '789', 5: 'five'}, 'A2': '456'}\n"
     ]
    }
   ],
   "source": [
    "import copy\n",
    "\n",
    "d2 = {\"A1\":{1: \"one\", 5: \"five\"}, \"A2\":\"456\"}\n",
    "d3 = copy.deepcopy(d2)\n",
    "print('d3 ->', d3)\n",
    "\n",
    "d3[\"A1\"][1] = \"789\"\n",
    "print('d2 ->', d2)\n",
    "print('d3 ->', d3)"
   ]
  },
  {
   "cell_type": "markdown",
   "metadata": {},
   "source": [
    "### *fromkeys(seq[, value])* - создает словарь с ключами из seq и значением value (по умолчанию None)."
   ]
  },
  {
   "cell_type": "code",
   "execution_count": 24,
   "metadata": {},
   "outputs": [
    {
     "name": "stdout",
     "output_type": "stream",
     "text": [
      "{'one': None, 'two': None, 3: None}\n",
      "{'one': 10, 'two': 10, 3: 10}\n"
     ]
    }
   ],
   "source": [
    "my_new_dict = dict.fromkeys(['one', 'two', 3])\n",
    "print(my_new_dict)\n",
    "\n",
    "my_new_dict = dict.fromkeys(['one', 'two', 3], 10)\n",
    "print(my_new_dict)"
   ]
  },
  {
   "cell_type": "code",
   "execution_count": 25,
   "metadata": {},
   "outputs": [
    {
     "name": "stdout",
     "output_type": "stream",
     "text": [
      "{1: [], 2: [], 3: []}\n"
     ]
    }
   ],
   "source": [
    "# Ошибочная попытка инициализировать все элементы пустыми списками.\n",
    "my_new_dict = dict.fromkeys([1, 2, 3], [])\n",
    "print(my_new_dict)\n"
   ]
  },
  {
   "cell_type": "code",
   "execution_count": 26,
   "metadata": {},
   "outputs": [
    {
     "name": "stdout",
     "output_type": "stream",
     "text": [
      "{1: ['added'], 2: ['added'], 3: ['added']}\n"
     ]
    }
   ],
   "source": [
    "my_new_dict[1].append('added')\n",
    "print(my_new_dict)"
   ]
  },
  {
   "cell_type": "code",
   "execution_count": 27,
   "metadata": {},
   "outputs": [
    {
     "name": "stdout",
     "output_type": "stream",
     "text": [
      "{1: ['added'], 2: [], 3: []}\n"
     ]
    }
   ],
   "source": [
    "# Правильный вариант, но без fromkeys:\n",
    "my_new_dict = {}\n",
    "for key in [1, 2, 3]:\n",
    "    my_new_dict[key] =  []\n",
    "\n",
    "my_new_dict[1].append('added')\n",
    "print(my_new_dict)\n"
   ]
  },
  {
   "cell_type": "code",
   "execution_count": 28,
   "metadata": {
    "scrolled": true
   },
   "outputs": [
    {
     "name": "stdout",
     "output_type": "stream",
     "text": [
      "{1: ['added'], 2: [], 3: []}\n"
     ]
    }
   ],
   "source": [
    "# Создание словаря с помощью генераторного выражения\n",
    "my_new_dict = { key: [] for key in [1, 2, 3] }\n",
    "\n",
    "my_new_dict[1].append('added')\n",
    "print(my_new_dict)"
   ]
  },
  {
   "cell_type": "markdown",
   "metadata": {},
   "source": [
    "### *get(key)* - возвращает значение ключа, но если его нет, не бросает исключение, а возвращает default (по умолчанию None)."
   ]
  },
  {
   "cell_type": "code",
   "execution_count": 29,
   "metadata": {},
   "outputs": [
    {
     "ename": "KeyError",
     "evalue": "4",
     "output_type": "error",
     "traceback": [
      "\u001b[0;31m---------------------------------------------------------------------------\u001b[0m",
      "\u001b[0;31mKeyError\u001b[0m                                  Traceback (most recent call last)",
      "Cell \u001b[0;32mIn[29], line 2\u001b[0m\n\u001b[1;32m      1\u001b[0m d2 \u001b[38;5;241m=\u001b[39m {\u001b[38;5;124m\"\u001b[39m\u001b[38;5;124mA1\u001b[39m\u001b[38;5;124m\"\u001b[39m:{\u001b[38;5;241m1\u001b[39m: \u001b[38;5;124m\"\u001b[39m\u001b[38;5;124mone\u001b[39m\u001b[38;5;124m\"\u001b[39m, \u001b[38;5;241m5\u001b[39m: \u001b[38;5;124m\"\u001b[39m\u001b[38;5;124mfive\u001b[39m\u001b[38;5;124m\"\u001b[39m}, \u001b[38;5;124m\"\u001b[39m\u001b[38;5;124mA2\u001b[39m\u001b[38;5;124m\"\u001b[39m:\u001b[38;5;124m\"\u001b[39m\u001b[38;5;124m456\u001b[39m\u001b[38;5;124m\"\u001b[39m}\n\u001b[0;32m----> 2\u001b[0m \u001b[43md2\u001b[49m\u001b[43m[\u001b[49m\u001b[38;5;241;43m4\u001b[39;49m\u001b[43m]\u001b[49m\n",
      "\u001b[0;31mKeyError\u001b[0m: 4"
     ]
    }
   ],
   "source": [
    "d2 = {\"A1\":{1: \"one\", 5: \"five\"}, \"A2\":\"456\"}\n",
    "d2[4]"
   ]
  },
  {
   "cell_type": "code",
   "execution_count": 30,
   "metadata": {
    "scrolled": true
   },
   "outputs": [
    {
     "name": "stdout",
     "output_type": "stream",
     "text": [
      "456\n",
      "None\n"
     ]
    }
   ],
   "source": [
    "print(d2.get('A2'))\n",
    "\n",
    "print(d2.get(4))\n"
   ]
  },
  {
   "cell_type": "code",
   "execution_count": 31,
   "metadata": {
    "scrolled": true
   },
   "outputs": [
    {
     "name": "stdout",
     "output_type": "stream",
     "text": [
      "{}\n",
      "{'A1': {1: 'one', 5: 'five'}, 'A2': '456'}\n"
     ]
    }
   ],
   "source": [
    "print(d2.get('address', {})) # значение по умолчанию\n",
    "\n",
    "print(d2)"
   ]
  },
  {
   "cell_type": "code",
   "execution_count": 32,
   "metadata": {},
   "outputs": [
    {
     "name": "stdout",
     "output_type": "stream",
     "text": [
      "one\n"
     ]
    }
   ],
   "source": [
    "x = d2[\"A1\"][1]\n",
    "print(x)"
   ]
  },
  {
   "cell_type": "code",
   "execution_count": 33,
   "metadata": {
    "scrolled": true
   },
   "outputs": [
    {
     "ename": "TypeError",
     "evalue": "'NoneType' object is not subscriptable",
     "output_type": "error",
     "traceback": [
      "\u001b[0;31m---------------------------------------------------------------------------\u001b[0m",
      "\u001b[0;31mTypeError\u001b[0m                                 Traceback (most recent call last)",
      "Cell \u001b[0;32mIn[33], line 2\u001b[0m\n\u001b[1;32m      1\u001b[0m y \u001b[38;5;241m=\u001b[39m d2\u001b[38;5;241m.\u001b[39mget(\u001b[38;5;124m'\u001b[39m\u001b[38;5;124mA5\u001b[39m\u001b[38;5;124m'\u001b[39m)\n\u001b[0;32m----> 2\u001b[0m z \u001b[38;5;241m=\u001b[39m \u001b[43my\u001b[49m\u001b[43m[\u001b[49m\u001b[38;5;241;43m1\u001b[39;49m\u001b[43m]\u001b[49m\n",
      "\u001b[0;31mTypeError\u001b[0m: 'NoneType' object is not subscriptable"
     ]
    }
   ],
   "source": [
    "y = d2.get('A5')\n",
    "z = y[1]"
   ]
  },
  {
   "cell_type": "code",
   "execution_count": null,
   "metadata": {},
   "outputs": [],
   "source": [
    "y = d2.get('A5', {})\n",
    "z = y[1]"
   ]
  },
  {
   "cell_type": "code",
   "execution_count": 34,
   "metadata": {
    "scrolled": true
   },
   "outputs": [
    {
     "name": "stdout",
     "output_type": "stream",
     "text": [
      "None\n"
     ]
    }
   ],
   "source": [
    "y = d2.get('A5', {})\n",
    "z = y.get(1)\n",
    "print(z)"
   ]
  },
  {
   "cell_type": "code",
   "execution_count": 35,
   "metadata": {},
   "outputs": [
    {
     "data": {
      "text/plain": [
       "{'A1': {1: 'one', 5: 'five'}, 'A2': '456'}"
      ]
     },
     "execution_count": 35,
     "metadata": {},
     "output_type": "execute_result"
    }
   ],
   "source": [
    "d2"
   ]
  },
  {
   "cell_type": "code",
   "execution_count": 36,
   "metadata": {},
   "outputs": [],
   "source": [
    "z = d2.get('address', {}).get('home', 0)\n",
    "# if 'address' in d2:\n",
    "#     if 'home' in d2['address']:\n",
    "#         z = d2[\"address\"]['home']\n",
    "#     else:\n",
    "#         z = 0\n",
    "# else:\n",
    "#    z = 0"
   ]
  },
  {
   "cell_type": "code",
   "execution_count": null,
   "metadata": {},
   "outputs": [],
   "source": [
    "print(z)"
   ]
  },
  {
   "cell_type": "code",
   "execution_count": null,
   "metadata": {},
   "outputs": [],
   "source": [
    "dct = {2: [1]}\n",
    "if dct.get(4, []):\n",
    "    print('OK')\n",
    "if dct.get(3):\n",
    "    print(3)"
   ]
  },
  {
   "cell_type": "code",
   "execution_count": null,
   "metadata": {},
   "outputs": [],
   "source": [
    "res = dct.get(3)\n",
    "if res is not None:\n",
    "    pass"
   ]
  },
  {
   "cell_type": "markdown",
   "metadata": {},
   "source": [
    "### *items()* - возвращает пары (ключ, значение)."
   ]
  },
  {
   "cell_type": "code",
   "execution_count": 37,
   "metadata": {},
   "outputs": [
    {
     "name": "stdout",
     "output_type": "stream",
     "text": [
      "dict_items([('name', 'Alexander'), ('lastname', 'Ts'), ('age', 36), ('group', 'PN121')])\n"
     ]
    }
   ],
   "source": [
    "student = {\"name\": \"Alexander\", \"lastname\": \"Ts\", \"age\": 36, \"group\": \"PN121\"}\n",
    "print(student.items())\n"
   ]
  },
  {
   "cell_type": "code",
   "execution_count": null,
   "metadata": {
    "scrolled": true
   },
   "outputs": [],
   "source": [
    "lst = student.items() # Это списко-подобный элемент\n",
    "lst[0]"
   ]
  },
  {
   "cell_type": "code",
   "execution_count": null,
   "metadata": {},
   "outputs": [],
   "source": [
    "lst = list(student.items())\n",
    "lst[0]"
   ]
  },
  {
   "cell_type": "code",
   "execution_count": null,
   "metadata": {},
   "outputs": [],
   "source": [
    "a = student.get('address', {})\n",
    "print(a.items())"
   ]
  },
  {
   "cell_type": "code",
   "execution_count": 39,
   "metadata": {
    "scrolled": true
   },
   "outputs": [
    {
     "name": "stdout",
     "output_type": "stream",
     "text": [
      "Key: name, value: Alexander\n",
      "Key: lastname, value: Ts\n",
      "Key: age, value: 36\n",
      "Key: group, value: PN121\n",
      "dict_items([('name', 'Alexander'), ('lastname', 'Ts'), ('age', 36), ('group', 'PN121')])\n"
     ]
    }
   ],
   "source": [
    "for key, val in student.items():\n",
    "    print(f'Key: {key}, value: {val}')\n",
    "print(student.items())"
   ]
  },
  {
   "cell_type": "code",
   "execution_count": 40,
   "metadata": {},
   "outputs": [
    {
     "name": "stdout",
     "output_type": "stream",
     "text": [
      "('name', 'Alexander')\n",
      "Key: name, value: Alexander\n",
      "('lastname', 'Ts')\n",
      "Key: lastname, value: Ts\n",
      "('age', 36)\n",
      "Key: age, value: 36\n",
      "('group', 'PN121')\n",
      "Key: group, value: PN121\n"
     ]
    }
   ],
   "source": [
    "for pair in student.items():\n",
    "    print(pair)\n",
    "    print(f'Key: {pair[0]}, value: {pair[1]}')"
   ]
  },
  {
   "cell_type": "markdown",
   "metadata": {},
   "source": [
    "### *keys()* - возвращает ключи в словаре."
   ]
  },
  {
   "cell_type": "code",
   "execution_count": 41,
   "metadata": {},
   "outputs": [
    {
     "name": "stdout",
     "output_type": "stream",
     "text": [
      "dict_keys(['name', 'lastname', 'age', 'group'])\n"
     ]
    }
   ],
   "source": [
    "# Это списко-подобный элемент\n",
    "print(student.keys())\n"
   ]
  },
  {
   "cell_type": "code",
   "execution_count": 42,
   "metadata": {},
   "outputs": [
    {
     "ename": "TypeError",
     "evalue": "'dict_keys' object is not subscriptable",
     "output_type": "error",
     "traceback": [
      "\u001b[0;31m---------------------------------------------------------------------------\u001b[0m",
      "\u001b[0;31mTypeError\u001b[0m                                 Traceback (most recent call last)",
      "Cell \u001b[0;32mIn[42], line 2\u001b[0m\n\u001b[1;32m      1\u001b[0m lst \u001b[38;5;241m=\u001b[39m student\u001b[38;5;241m.\u001b[39mkeys()\n\u001b[0;32m----> 2\u001b[0m \u001b[38;5;28mprint\u001b[39m(\u001b[43mlst\u001b[49m\u001b[43m[\u001b[49m\u001b[38;5;241;43m0\u001b[39;49m\u001b[43m]\u001b[49m) \u001b[38;5;66;03m# error\u001b[39;00m\n",
      "\u001b[0;31mTypeError\u001b[0m: 'dict_keys' object is not subscriptable"
     ]
    }
   ],
   "source": [
    "lst = student.keys()\n",
    "print(lst[0]) # error"
   ]
  },
  {
   "cell_type": "code",
   "execution_count": 43,
   "metadata": {},
   "outputs": [
    {
     "name": "stdout",
     "output_type": "stream",
     "text": [
      "name\n"
     ]
    }
   ],
   "source": [
    "print(list(lst)[0])"
   ]
  },
  {
   "cell_type": "code",
   "execution_count": 44,
   "metadata": {},
   "outputs": [
    {
     "name": "stdout",
     "output_type": "stream",
     "text": [
      "{'name': 'Alexander', 'lastname': 'Ts', 'age': 36, 'group': 'PN121'}\n",
      "Key: name, value:Alexander\n",
      "Key: lastname, value:Ts\n",
      "Key: age, value:36\n",
      "Key: group, value:PN121\n"
     ]
    }
   ],
   "source": [
    "print(student)\n",
    "for key in student: # student.keys()\n",
    "    print(f'Key: {key}, value:{student[key]}')"
   ]
  },
  {
   "cell_type": "markdown",
   "metadata": {},
   "source": [
    "### *values()* - возвращает значения в словаре."
   ]
  },
  {
   "cell_type": "code",
   "execution_count": 45,
   "metadata": {},
   "outputs": [
    {
     "name": "stdout",
     "output_type": "stream",
     "text": [
      "dict_values(['Alexander', 'Ts', 36, 'PN121'])\n"
     ]
    }
   ],
   "source": [
    "print(student.values())\n",
    "# Это тоже списко подобный элемент, как и для keys(). Действия аналогичные"
   ]
  },
  {
   "cell_type": "code",
   "execution_count": 46,
   "metadata": {},
   "outputs": [
    {
     "data": {
      "text/plain": [
       "True"
      ]
     },
     "execution_count": 46,
     "metadata": {},
     "output_type": "execute_result"
    }
   ],
   "source": [
    "'Alexander' in student.values()"
   ]
  },
  {
   "cell_type": "markdown",
   "metadata": {},
   "source": [
    "### *pop(key[, default])*"
   ]
  },
  {
   "cell_type": "code",
   "execution_count": 49,
   "metadata": {},
   "outputs": [
    {
     "name": "stdout",
     "output_type": "stream",
     "text": [
      "{'A2': '456'}\n",
      "123\n"
     ]
    }
   ],
   "source": [
    "d = {\"A1\":\"123\", \"A2\":\"456\"}\n",
    "a = d.pop(\"A1\")\n",
    "\n",
    "print(d)\n",
    "print(a)"
   ]
  },
  {
   "cell_type": "code",
   "execution_count": 50,
   "metadata": {},
   "outputs": [
    {
     "ename": "KeyError",
     "evalue": "'A1'",
     "output_type": "error",
     "traceback": [
      "\u001b[0;31m---------------------------------------------------------------------------\u001b[0m",
      "\u001b[0;31mKeyError\u001b[0m                                  Traceback (most recent call last)",
      "Cell \u001b[0;32mIn[50], line 1\u001b[0m\n\u001b[0;32m----> 1\u001b[0m a \u001b[38;5;241m=\u001b[39m \u001b[43md\u001b[49m\u001b[38;5;241;43m.\u001b[39;49m\u001b[43mpop\u001b[49m\u001b[43m(\u001b[49m\u001b[38;5;124;43m\"\u001b[39;49m\u001b[38;5;124;43mA1\u001b[39;49m\u001b[38;5;124;43m\"\u001b[39;49m\u001b[43m)\u001b[49m \u001b[38;5;66;03m#error\u001b[39;00m\n",
      "\u001b[0;31mKeyError\u001b[0m: 'A1'"
     ]
    }
   ],
   "source": [
    "a = d.pop(\"A1\") #error\n"
   ]
  },
  {
   "cell_type": "code",
   "execution_count": 51,
   "metadata": {},
   "outputs": [
    {
     "name": "stdout",
     "output_type": "stream",
     "text": [
      "[]\n"
     ]
    }
   ],
   "source": [
    "a = d.pop(\"A1\", []) # Значение по умолчанию, ошибки не будет\n",
    "print(a)"
   ]
  },
  {
   "cell_type": "code",
   "execution_count": 47,
   "metadata": {},
   "outputs": [
    {
     "ename": "TypeError",
     "evalue": "pop expected at most 1 argument, got 2",
     "output_type": "error",
     "traceback": [
      "\u001b[0;31m---------------------------------------------------------------------------\u001b[0m",
      "\u001b[0;31mTypeError\u001b[0m                                 Traceback (most recent call last)",
      "Cell \u001b[0;32mIn[47], line 1\u001b[0m\n\u001b[0;32m----> 1\u001b[0m \u001b[43m[\u001b[49m\u001b[43m]\u001b[49m\u001b[38;5;241;43m.\u001b[39;49m\u001b[43mpop\u001b[49m\u001b[43m(\u001b[49m\u001b[38;5;241;43m0\u001b[39;49m\u001b[43m,\u001b[49m\u001b[43m \u001b[49m\u001b[38;5;28;43;01mNone\u001b[39;49;00m\u001b[43m)\u001b[49m \u001b[38;5;66;03m# TypeError:\u001b[39;00m\n",
      "\u001b[0;31mTypeError\u001b[0m: pop expected at most 1 argument, got 2"
     ]
    }
   ],
   "source": [
    "[].pop(0, None) # TypeError:"
   ]
  },
  {
   "cell_type": "markdown",
   "metadata": {},
   "source": [
    "### *popitem()*  - удаляет и возвращает пару (ключ, значение). Если словарь пуст, бросает исключение KeyError. Помните, что словари неупорядочены.\n"
   ]
  },
  {
   "cell_type": "code",
   "execution_count": 52,
   "metadata": {},
   "outputs": [
    {
     "name": "stdout",
     "output_type": "stream",
     "text": [
      "A2 456\n",
      "{'A1': '123'}\n"
     ]
    }
   ],
   "source": [
    "d = {\"A1\":\"123\", \"A2\":\"456\"}\n",
    "k, v = d.popitem()\n",
    "print(k, v)\n",
    "print(d)"
   ]
  },
  {
   "cell_type": "code",
   "execution_count": null,
   "metadata": {
    "pycharm": {
     "name": "#%%\n"
    }
   },
   "outputs": [],
   "source": [
    "\n",
    "k, v = d.popitem()\n",
    "print(d)"
   ]
  },
  {
   "cell_type": "code",
   "execution_count": 54,
   "metadata": {
    "scrolled": true
   },
   "outputs": [
    {
     "ename": "KeyError",
     "evalue": "'popitem(): dictionary is empty'",
     "output_type": "error",
     "traceback": [
      "\u001b[0;31m---------------------------------------------------------------------------\u001b[0m",
      "\u001b[0;31mKeyError\u001b[0m                                  Traceback (most recent call last)",
      "Cell \u001b[0;32mIn[54], line 1\u001b[0m\n\u001b[0;32m----> 1\u001b[0m k, v \u001b[38;5;241m=\u001b[39m \u001b[43md\u001b[49m\u001b[38;5;241;43m.\u001b[39;49m\u001b[43mpopitem\u001b[49m\u001b[43m(\u001b[49m\u001b[43m)\u001b[49m \u001b[38;5;66;03m# Ошибка KeyError, если словарь уже пустой\u001b[39;00m\n",
      "\u001b[0;31mKeyError\u001b[0m: 'popitem(): dictionary is empty'"
     ]
    }
   ],
   "source": [
    "k, v = d.popitem() # Ошибка KeyError, если словарь уже пустой"
   ]
  },
  {
   "cell_type": "code",
   "execution_count": 55,
   "metadata": {},
   "outputs": [
    {
     "ename": "TypeError",
     "evalue": "dict.popitem() takes no arguments (1 given)",
     "output_type": "error",
     "traceback": [
      "\u001b[0;31m---------------------------------------------------------------------------\u001b[0m",
      "\u001b[0;31mTypeError\u001b[0m                                 Traceback (most recent call last)",
      "Cell \u001b[0;32mIn[55], line 1\u001b[0m\n\u001b[0;32m----> 1\u001b[0m k, v \u001b[38;5;241m=\u001b[39m \u001b[43md\u001b[49m\u001b[38;5;241;43m.\u001b[39;49m\u001b[43mpopitem\u001b[49m\u001b[43m(\u001b[49m\u001b[38;5;28;43;01mNone\u001b[39;49;00m\u001b[43m)\u001b[49m \u001b[38;5;66;03m# TypeError: popitem() takes no arguments (1 given)\u001b[39;00m\n",
      "\u001b[0;31mTypeError\u001b[0m: dict.popitem() takes no arguments (1 given)"
     ]
    }
   ],
   "source": [
    "k, v = d.popitem(None) # TypeError: popitem() takes no arguments (1 given)"
   ]
  },
  {
   "cell_type": "markdown",
   "metadata": {},
   "source": [
    "### *setdefault(key[, default])*  - возвращает значение ключа, но если его нет, не бросает исключение, а создает ключ со значением default (по умолчанию None)."
   ]
  },
  {
   "cell_type": "code",
   "execution_count": null,
   "metadata": {},
   "outputs": [],
   "source": [
    "# Необходимо посчитать количество повторений каждого числа в списке\n",
    "dict_one = {}\n",
    "l = [1, 2, 3, 6, 3, 1, 7]\n",
    "for i in l:\n",
    "    count = dict_one.get(i)\n",
    "    if count:\n",
    "        dict_one[i] = count + 1\n",
    "    else:\n",
    "        dict_one[i] = 1\n",
    "# словарь, в котором ключами являются элементы списка, а значениями то,\n",
    "# сколько раз они встречались в списке\n",
    "print(dict_one)"
   ]
  },
  {
   "cell_type": "code",
   "execution_count": 58,
   "metadata": {},
   "outputs": [
    {
     "name": "stdout",
     "output_type": "stream",
     "text": [
      "{1: 3, 2: 1, 3: 2, 6: 1, 7: 1}\n"
     ]
    }
   ],
   "source": [
    "dict_one = {}\n",
    "l = [1, 2, 3, 6, 3, 1, 7]\n",
    "for i in l:\n",
    "    dict_one.setdefault(i, 0)\n",
    "    dict_one[i] += 1 # dict_one[i] = dict_one[i] + 1\n",
    "\n",
    "print(dict_one)"
   ]
  },
  {
   "cell_type": "code",
   "execution_count": 57,
   "metadata": {},
   "outputs": [
    {
     "ename": "KeyError",
     "evalue": "1",
     "output_type": "error",
     "traceback": [
      "\u001b[0;31m---------------------------------------------------------------------------\u001b[0m",
      "\u001b[0;31mKeyError\u001b[0m                                  Traceback (most recent call last)",
      "Cell \u001b[0;32mIn[57], line 5\u001b[0m\n\u001b[1;32m      2\u001b[0m l \u001b[38;5;241m=\u001b[39m [\u001b[38;5;241m1\u001b[39m, \u001b[38;5;241m2\u001b[39m, \u001b[38;5;241m3\u001b[39m, \u001b[38;5;241m6\u001b[39m, \u001b[38;5;241m3\u001b[39m, \u001b[38;5;241m1\u001b[39m, \u001b[38;5;241m7\u001b[39m]\n\u001b[1;32m      3\u001b[0m \u001b[38;5;28;01mfor\u001b[39;00m i \u001b[38;5;129;01min\u001b[39;00m l:\n\u001b[1;32m      4\u001b[0m     \u001b[38;5;66;03m# dict_one.setdefault(i, 0)\u001b[39;00m\n\u001b[0;32m----> 5\u001b[0m     dict_one[i] \u001b[38;5;241m=\u001b[39m \u001b[43mdict_one\u001b[49m\u001b[43m[\u001b[49m\u001b[43mi\u001b[49m\u001b[43m]\u001b[49m \u001b[38;5;241m+\u001b[39m \u001b[38;5;241m1\u001b[39m \u001b[38;5;66;03m# KeyError\u001b[39;00m\n\u001b[1;32m      7\u001b[0m \u001b[38;5;28mprint\u001b[39m(dict_one)\n",
      "\u001b[0;31mKeyError\u001b[0m: 1"
     ]
    }
   ],
   "source": [
    "dict_one = {}\n",
    "l = [1, 2, 3, 6, 3, 1, 7]\n",
    "for i in l:\n",
    "    # dict_one.setdefault(i, 0)\n",
    "    dict_one[i] = dict_one[i] + 1 # KeyError\n",
    "\n",
    "print(dict_one)"
   ]
  },
  {
   "cell_type": "code",
   "execution_count": null,
   "metadata": {},
   "outputs": [],
   "source": [
    "dict_one = {}\n",
    "l = [1, 2, 3, 6, 3, 1, 7]\n",
    "for i in l:\n",
    "    # dict_one.setdefault(i, 0)\n",
    "    dict_one[i] = dict_one.get(i, 0) + 1\n",
    "\n",
    "print(dict_one)"
   ]
  },
  {
   "cell_type": "code",
   "execution_count": null,
   "metadata": {},
   "outputs": [],
   "source": []
  },
  {
   "cell_type": "markdown",
   "metadata": {},
   "source": [
    "### *update([other])* обновляет словарь, добавляя пары (ключ, значение) из other. Существующие ключи перезаписываются. Возвращает None (не новый словарь!)."
   ]
  },
  {
   "cell_type": "code",
   "execution_count": null,
   "metadata": {},
   "outputs": [],
   "source": [
    "student = {\"name\": \"Alexander\", \"lastname\": \"Ts\", \"age\": 36, \"group\": \"PN121\"}\n",
    "address = {\"address\":\n",
    "             {\"street\": \"Lomonosova\",\n",
    "              \"house\": 87,\n",
    "              \"flat\": 705}\n",
    "          }\n",
    "student.update(address)\n",
    "print(student)"
   ]
  },
  {
   "cell_type": "code",
   "execution_count": null,
   "metadata": {},
   "outputs": [],
   "source": [
    "student = {\"name\": \"Alexander\", \"lastname\": \"Ts\", \"age\": 36, \"group\": \"PN121\"}\n",
    "address = {\"address\":\n",
    "             {\"street\": \"Lomonosova\",\n",
    "              \"house\": 87,\n",
    "              \"flat\": 705}\n",
    "          }\n",
    "student.update(address)\n",
    "student['address'].update({\"house\": 86, \"flat\": 76})\n",
    "print(student)"
   ]
  },
  {
   "cell_type": "code",
   "execution_count": null,
   "metadata": {},
   "outputs": [],
   "source": [
    "student.update({\"name\": \"Bob\", \"lastname\": \"Nolan\", \"address\": ''})\n",
    "print(student)"
   ]
  },
  {
   "cell_type": "code",
   "execution_count": 59,
   "metadata": {
    "pycharm": {
     "name": "#%%\n"
    }
   },
   "outputs": [
    {
     "name": "stdout",
     "output_type": "stream",
     "text": [
      "a\n",
      "b\n",
      "c\n",
      "d\n"
     ]
    }
   ],
   "source": [
    "# Начиная с версии 3.9, можно надеяться на порядок добавления ключей\n",
    "dct = {}\n",
    "dct['a'] = 1\n",
    "dct['b'] = 2\n",
    "dct['c'] = 3\n",
    "dct['d'] = 4\n",
    "for k in dct:\n",
    "    print(k)"
   ]
  },
  {
   "cell_type": "markdown",
   "metadata": {},
   "source": [
    "## OrderedDict\n",
    "#### ещё один похожий на словарь объект, но он помнит порядок, в котором ему были даны ключи."
   ]
  },
  {
   "cell_type": "markdown",
   "metadata": {
    "pycharm": {
     "name": "#%% md\n"
    }
   },
   "source": [
    "#### Методы в основном как и у обычного словаря, но есть несколько особенных"
   ]
  },
  {
   "cell_type": "markdown",
   "metadata": {
    "pycharm": {
     "name": "#%% md\n"
    }
   },
   "source": [
    "**popitem**(last=True) - удаляет последний элемент если `last=True`, и первый,\n",
    "если `last=False`."
   ]
  },
  {
   "cell_type": "code",
   "execution_count": null,
   "metadata": {
    "pycharm": {
     "name": "#%%\n"
    }
   },
   "outputs": [],
   "source": [
    "from   collections import OrderedDict\n",
    "d = {'banana': 3, 'apple': 4, 'pear': 1, 'orange': 2}\n",
    "dct = OrderedDict(sorted(d.items(), key=lambda t: t[1]))\n",
    "print(dct)\n",
    "dct = OrderedDict(sorted(d.items(), key=lambda t: t[0]))\n",
    "print(dct)"
   ]
  },
  {
   "cell_type": "code",
   "execution_count": null,
   "metadata": {
    "pycharm": {
     "name": "#%%\n"
    }
   },
   "outputs": [],
   "source": [
    "dct"
   ]
  },
  {
   "cell_type": "code",
   "execution_count": null,
   "metadata": {
    "pycharm": {
     "name": "#%%\n"
    }
   },
   "outputs": [],
   "source": [
    "dct.popitem()"
   ]
  },
  {
   "cell_type": "code",
   "execution_count": null,
   "metadata": {
    "pycharm": {
     "name": "#%%\n"
    },
    "scrolled": true
   },
   "outputs": [],
   "source": [
    "dct.popitem(last=False)"
   ]
  },
  {
   "cell_type": "code",
   "execution_count": null,
   "metadata": {},
   "outputs": [],
   "source": [
    "print(dct)"
   ]
  },
  {
   "cell_type": "markdown",
   "metadata": {},
   "source": [
    "**move_to_end**(key, last=True) - перемещает ключ в конец если last=True, и в начало, если last=False."
   ]
  },
  {
   "cell_type": "code",
   "execution_count": null,
   "metadata": {
    "pycharm": {
     "name": "#%%\n"
    },
    "scrolled": true
   },
   "outputs": [],
   "source": [
    "dct['apple'] = 4\n",
    "print(dct)"
   ]
  },
  {
   "cell_type": "code",
   "execution_count": null,
   "metadata": {},
   "outputs": [],
   "source": [
    "dct.move_to_end('banana')\n",
    "print(dct)"
   ]
  },
  {
   "cell_type": "code",
   "execution_count": null,
   "metadata": {
    "pycharm": {
     "name": "#%%\n"
    }
   },
   "outputs": [],
   "source": [
    "dct.move_to_end('apple', last=False)\n",
    "print(dct)"
   ]
  },
  {
   "cell_type": "markdown",
   "metadata": {},
   "source": [
    "## defaultdict\n",
    "ничем не отличается от обычного словаря за исключением того, что по умолчанию\n",
    "всегда вызывается функция, возвращающая значение"
   ]
  },
  {
   "cell_type": "code",
   "execution_count": 60,
   "metadata": {
    "pycharm": {
     "name": "#%%\n"
    }
   },
   "outputs": [
    {
     "name": "stdout",
     "output_type": "stream",
     "text": [
      "defaultdict(<class 'list'>, {})\n"
     ]
    }
   ],
   "source": [
    "from collections import defaultdict\n",
    "defdict = defaultdict(list)\n",
    "print(defdict)"
   ]
  },
  {
   "cell_type": "code",
   "execution_count": 62,
   "metadata": {},
   "outputs": [
    {
     "name": "stdout",
     "output_type": "stream",
     "text": [
      "defaultdict(<class 'list'>, {1024: [1, 1], 900: []})\n"
     ]
    }
   ],
   "source": [
    "defdict[1024].append(1)\n",
    "print(defdict)"
   ]
  },
  {
   "cell_type": "code",
   "execution_count": 63,
   "metadata": {
    "pycharm": {
     "name": "#%%\n"
    }
   },
   "outputs": [
    {
     "name": "stdout",
     "output_type": "stream",
     "text": [
      "defaultdict(<class 'list'>, {1024: [1, 1], 900: [], 0: [0], 1: [5], 2: [10], 3: [15], 4: [20]})\n"
     ]
    }
   ],
   "source": [
    "for i in range(5):\n",
    "    defdict[i].append(i * 5)\n",
    "\n",
    "print(defdict)\n"
   ]
  },
  {
   "cell_type": "code",
   "execution_count": null,
   "metadata": {},
   "outputs": [],
   "source": [
    "dict_one = {}\n",
    "\n",
    "for i in range(5):\n",
    "    dict_one.setdefault(i, [])\n",
    "    dict_one[i].append(i * 5)\n",
    "print(dict_one)"
   ]
  },
  {
   "cell_type": "markdown",
   "metadata": {},
   "source": [
    "### Именованный кортеж namedtuple()"
   ]
  },
  {
   "cell_type": "code",
   "execution_count": null,
   "metadata": {},
   "outputs": [],
   "source": [
    "from collections import namedtuple\n",
    "fields = ('color', 'engine')\n",
    "car = namedtuple('Car', fields)\n",
    "car1 = car('red', 2000)\n",
    "\n",
    "print(car1[0])\n",
    "print(car1.color)"
   ]
  },
  {
   "cell_type": "code",
   "execution_count": null,
   "metadata": {},
   "outputs": [],
   "source": [
    "car3 = car(engine=5000, color='red')"
   ]
  },
  {
   "cell_type": "code",
   "execution_count": null,
   "metadata": {},
   "outputs": [],
   "source": [
    "car3"
   ]
  },
  {
   "cell_type": "code",
   "execution_count": null,
   "metadata": {},
   "outputs": [],
   "source": [
    "car2 = car('black', 3000)\n",
    "print(car2)"
   ]
  },
  {
   "cell_type": "code",
   "execution_count": null,
   "metadata": {},
   "outputs": [],
   "source": [
    "print(car2.engine)\n",
    "print(car2[1])"
   ]
  },
  {
   "cell_type": "code",
   "execution_count": null,
   "metadata": {},
   "outputs": [],
   "source": [
    "car2[1] = 3500  # error"
   ]
  },
  {
   "cell_type": "code",
   "execution_count": null,
   "metadata": {},
   "outputs": [],
   "source": [
    "car1.color = 'blue'  # error"
   ]
  },
  {
   "cell_type": "code",
   "execution_count": null,
   "metadata": {},
   "outputs": [],
   "source": [
    "# Распаковка кортежа\n",
    "color1, engine1 = car1\n",
    "print(color1, engine1)"
   ]
  },
  {
   "cell_type": "code",
   "execution_count": null,
   "metadata": {},
   "outputs": [],
   "source": [
    "tuple(car2)"
   ]
  },
  {
   "cell_type": "code",
   "execution_count": null,
   "metadata": {},
   "outputs": [],
   "source": [
    "# Получить словарь из кортежа\n",
    "car1._asdict()"
   ]
  },
  {
   "cell_type": "code",
   "execution_count": null,
   "metadata": {},
   "outputs": [],
   "source": [
    "import json\n",
    "json.dumps(car2._asdict()) # Преобразовать в json"
   ]
  }
 ],
 "metadata": {
  "kernelspec": {
   "display_name": "Python 3 (ipykernel)",
   "language": "python",
   "name": "python3"
  },
  "language_info": {
   "codemirror_mode": {
    "name": "ipython",
    "version": 3
   },
   "file_extension": ".py",
   "mimetype": "text/x-python",
   "name": "python",
   "nbconvert_exporter": "python",
   "pygments_lexer": "ipython3",
   "version": "3.12.1"
  }
 },
 "nbformat": 4,
 "nbformat_minor": 2
}
